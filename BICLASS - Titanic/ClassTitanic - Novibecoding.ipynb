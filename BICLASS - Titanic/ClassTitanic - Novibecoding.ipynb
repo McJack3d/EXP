{
 "cells": [
  {
   "cell_type": "markdown",
   "id": "b16e14df",
   "metadata": {},
   "source": [
    "# Titanic Biclass AlexB"
   ]
  },
  {
   "cell_type": "markdown",
   "id": "afb409a8",
   "metadata": {},
   "source": [
    "### Data understanding and intro"
   ]
  },
  {
   "cell_type": "markdown",
   "id": "2fd726ad",
   "metadata": {},
   "source": [
    "Import the different librairies i'll use in the notebook."
   ]
  },
  {
   "cell_type": "code",
   "execution_count": 1,
   "id": "53f987f1",
   "metadata": {},
   "outputs": [],
   "source": [
    "import pandas as pd\n",
    "import numpy as np\n",
    "import matplotlib.pyplot as plt\n",
    "import seaborn as sns\n",
    "import sklearn\n",
    "from sklearn.model_selection import GridSearchCV, train_test_split\n",
    "from sklearn.dummy import DummyClassifier\n",
    "from sklearn.metrics import accuracy_score, f1_score\n",
    "from sklearn.linear_model import LogisticRegression\n",
    "from sklearn.ensemble import RandomForestClassifier\n",
    "from sklearn.metrics import classification_report, confusion_matrix\n",
    "from sklearn.neighbors import KNeighborsClassifier as Kne"
   ]
  },
  {
   "cell_type": "markdown",
   "id": "e09f079e",
   "metadata": {},
   "source": [
    "Read csv and asign it a variable df."
   ]
  },
  {
   "cell_type": "code",
   "execution_count": 2,
   "id": "a7489c1f",
   "metadata": {},
   "outputs": [],
   "source": [
    "df = pd.read_csv(\"/Users/alexandrebredillot/Documents/GitHub/EXP/BICLASS - Titanic/Titanic-Dataset.csv\")"
   ]
  },
  {
   "cell_type": "markdown",
   "id": "358bb5c1",
   "metadata": {},
   "source": [
    "Lets #1 get a better understanding of the data and the problem we can works toward solving."
   ]
  },
  {
   "cell_type": "code",
   "execution_count": 3,
   "id": "7ffba611",
   "metadata": {},
   "outputs": [
    {
     "name": "stdout",
     "output_type": "stream",
     "text": [
      "   PassengerId  Survived  Pclass  \\\n",
      "0            1         0       3   \n",
      "1            2         1       1   \n",
      "2            3         1       3   \n",
      "3            4         1       1   \n",
      "4            5         0       3   \n",
      "\n",
      "                                                Name     Sex   Age  SibSp  \\\n",
      "0                            Braund, Mr. Owen Harris    male  22.0      1   \n",
      "1  Cumings, Mrs. John Bradley (Florence Briggs Th...  female  38.0      1   \n",
      "2                             Heikkinen, Miss. Laina  female  26.0      0   \n",
      "3       Futrelle, Mrs. Jacques Heath (Lily May Peel)  female  35.0      1   \n",
      "4                           Allen, Mr. William Henry    male  35.0      0   \n",
      "\n",
      "   Parch            Ticket     Fare Cabin Embarked  \n",
      "0      0         A/5 21171   7.2500   NaN        S  \n",
      "1      0          PC 17599  71.2833   C85        C  \n",
      "2      0  STON/O2. 3101282   7.9250   NaN        S  \n",
      "3      0            113803  53.1000  C123        S  \n",
      "4      0            373450   8.0500   NaN        S  \n"
     ]
    }
   ],
   "source": [
    "pd.set_option('display.max_columns', None)\n",
    "print(df.head())"
   ]
  },
  {
   "cell_type": "markdown",
   "id": "75294e64",
   "metadata": {},
   "source": [
    "The goal depicted by many works related to this dataset is to predict wether or not a passenger of Titanic survived based on the different profiles and the data provided. This is a binary classification problem and we will in this notebook delve into it.\n",
    "The columns names are pretty consice and explicit (except for parch \"parents and children present on board\" and sibsp \"siblings or spouse on board\"), i won't change any.\n"
   ]
  },
  {
   "cell_type": "code",
   "execution_count": 4,
   "id": "401678ef",
   "metadata": {},
   "outputs": [
    {
     "name": "stdout",
     "output_type": "stream",
     "text": [
      "<class 'pandas.core.frame.DataFrame'>\n",
      "RangeIndex: 891 entries, 0 to 890\n",
      "Data columns (total 12 columns):\n",
      " #   Column       Non-Null Count  Dtype  \n",
      "---  ------       --------------  -----  \n",
      " 0   PassengerId  891 non-null    int64  \n",
      " 1   Survived     891 non-null    int64  \n",
      " 2   Pclass       891 non-null    int64  \n",
      " 3   Name         891 non-null    object \n",
      " 4   Sex          891 non-null    object \n",
      " 5   Age          714 non-null    float64\n",
      " 6   SibSp        891 non-null    int64  \n",
      " 7   Parch        891 non-null    int64  \n",
      " 8   Ticket       891 non-null    object \n",
      " 9   Fare         891 non-null    float64\n",
      " 10  Cabin        204 non-null    object \n",
      " 11  Embarked     889 non-null    object \n",
      "dtypes: float64(2), int64(5), object(5)\n",
      "memory usage: 83.7+ KB\n",
      "None\n"
     ]
    }
   ],
   "source": [
    "print(df.info())"
   ]
  },
  {
   "cell_type": "markdown",
   "id": "a52e51b3",
   "metadata": {},
   "source": [
    "The set is quite short, 891-entries but is enough for a pretty accurate prediction.\n"
   ]
  },
  {
   "cell_type": "markdown",
   "id": "b6d07d67",
   "metadata": {},
   "source": [
    "## Pipeline"
   ]
  },
  {
   "cell_type": "markdown",
   "id": "17f75923",
   "metadata": {},
   "source": [
    "### Data preparation"
   ]
  },
  {
   "cell_type": "markdown",
   "id": "9092709d",
   "metadata": {},
   "source": [
    "Now, I will start the pipeline of our models and predictions by cleaning the data and standardizing it.\n",
    "Based on the different columns we can assume that certain features -such as the name, the ticket number and cabin number aren't relevant enough to be included in our scope."
   ]
  },
  {
   "cell_type": "code",
   "execution_count": 5,
   "id": "31a524bf",
   "metadata": {},
   "outputs": [],
   "source": [
    "df = df.drop(columns = [\"Name\", \"Ticket\", \"Cabin\"])"
   ]
  },
  {
   "cell_type": "markdown",
   "id": "f82ee8cc",
   "metadata": {},
   "source": [
    "Lets now try and standardize columns for wich we have Nan values."
   ]
  },
  {
   "cell_type": "code",
   "execution_count": 6,
   "id": "3490e932",
   "metadata": {},
   "outputs": [
    {
     "name": "stdout",
     "output_type": "stream",
     "text": [
      "<class 'pandas.core.frame.DataFrame'>\n",
      "RangeIndex: 891 entries, 0 to 890\n",
      "Data columns (total 2 columns):\n",
      " #   Column    Non-Null Count  Dtype  \n",
      "---  ------    --------------  -----  \n",
      " 0   Age       714 non-null    float64\n",
      " 1   Embarked  889 non-null    object \n",
      "dtypes: float64(1), object(1)\n",
      "memory usage: 14.1+ KB\n",
      "None\n"
     ]
    }
   ],
   "source": [
    "null_cols = df.columns[df.isnull().any()]\n",
    "\n",
    "print(df[null_cols].info())"
   ]
  },
  {
   "cell_type": "code",
   "execution_count": null,
   "id": "4a088ff2",
   "metadata": {},
   "outputs": [
    {
     "data": {
      "text/plain": [
       "<function matplotlib.pyplot.show(close=None, block=None)>"
      ]
     },
     "execution_count": 8,
     "metadata": {},
     "output_type": "execute_result"
    },
    {
     "data": {
      "image/png": "[encoded data removed]",
      "text/plain": [
       "<Figure size 640x480 with 1 Axes>"
      ]
     },
     "metadata": {},
     "output_type": "display_data"
    }
   ],
   "source": [
    "df[\"Embarked\"] = df[\"Embarked\"].astype(str)\n",
    "plt.hist(df[\"Embarked\"])\n",
    "plt.show"
   ]
  }
 ],
 "metadata": {
  "kernelspec": {
   "display_name": "Python 3",
   "language": "python",
   "name": "python3"
  },
  "language_info": {
   "codemirror_mode": {
    "name": "ipython",
    "version": 3
   },
   "file_extension": ".py",
   "mimetype": "text/x-python",
   "name": "python",
   "nbconvert_exporter": "python",
   "pygments_lexer": "ipython3",
   "version": "3.11.8"
  }
 },
 "nbformat": 4,
 "nbformat_minor": 5
}
