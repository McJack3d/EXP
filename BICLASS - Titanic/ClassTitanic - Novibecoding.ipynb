{
 "cells": [
  {
   "cell_type": "markdown",
   "id": "b16e14df",
   "metadata": {},
   "source": [
    "# Titanic Biclass AlexB"
   ]
  },
  {
   "cell_type": "markdown",
   "id": "afb409a8",
   "metadata": {},
   "source": [
    "### Data understanding and intro"
   ]
  },
  {
   "cell_type": "markdown",
   "id": "2fd726ad",
   "metadata": {},
   "source": [
    "Import the different librairies i'll use in the notebook."
   ]
  },
  {
   "cell_type": "code",
   "execution_count": 1,
   "id": "53f987f1",
   "metadata": {},
   "outputs": [],
   "source": [
    "import pandas as pd\n",
    "import numpy as np\n",
    "import matplotlib.pyplot as plt\n",
    "import seaborn as sns\n",
    "import sklearn\n",
    "from sklearn.model_selection import GridSearchCV, train_test_split\n",
    "from sklearn.dummy import DummyClassifier\n",
    "from sklearn.metrics import accuracy_score, f1_score\n",
    "from sklearn.linear_model import LogisticRegression\n",
    "from sklearn.ensemble import RandomForestClassifier\n",
    "from sklearn.metrics import classification_report, confusion_matrix\n",
    "from sklearn.neighbors import KNeighborsClassifier as Kne\n",
    "from sklearn.preprocessing import OneHotEncoder"
   ]
  },
  {
   "cell_type": "markdown",
   "id": "e09f079e",
   "metadata": {},
   "source": [
    "Read csv and asign it a variable df."
   ]
  },
  {
   "cell_type": "code",
   "execution_count": 2,
   "id": "a7489c1f",
   "metadata": {},
   "outputs": [],
   "source": [
    "df = pd.read_csv(\"/Users/alexandrebredillot/Documents/GitHub/EXP/BICLASS - Titanic/Titanic-Dataset.csv\")"
   ]
  },
  {
   "cell_type": "markdown",
   "id": "358bb5c1",
   "metadata": {},
   "source": [
    "Lets #1 get a better understanding of the data and the problem we can works toward solving."
   ]
  },
  {
   "cell_type": "code",
   "execution_count": 3,
   "id": "7ffba611",
   "metadata": {},
   "outputs": [
    {
     "name": "stdout",
     "output_type": "stream",
     "text": [
      "   PassengerId  Survived  Pclass  \\\n",
      "0            1         0       3   \n",
      "1            2         1       1   \n",
      "2            3         1       3   \n",
      "3            4         1       1   \n",
      "4            5         0       3   \n",
      "\n",
      "                                                Name     Sex   Age  SibSp  \\\n",
      "0                            Braund, Mr. Owen Harris    male  22.0      1   \n",
      "1  Cumings, Mrs. John Bradley (Florence Briggs Th...  female  38.0      1   \n",
      "2                             Heikkinen, Miss. Laina  female  26.0      0   \n",
      "3       Futrelle, Mrs. Jacques Heath (Lily May Peel)  female  35.0      1   \n",
      "4                           Allen, Mr. William Henry    male  35.0      0   \n",
      "\n",
      "   Parch            Ticket     Fare Cabin Embarked  \n",
      "0      0         A/5 21171   7.2500   NaN        S  \n",
      "1      0          PC 17599  71.2833   C85        C  \n",
      "2      0  STON/O2. 3101282   7.9250   NaN        S  \n",
      "3      0            113803  53.1000  C123        S  \n",
      "4      0            373450   8.0500   NaN        S  \n"
     ]
    }
   ],
   "source": [
    "pd.set_option('display.max_columns', None)\n",
    "print(df.head())"
   ]
  },
  {
   "cell_type": "markdown",
   "id": "75294e64",
   "metadata": {},
   "source": [
    "The goal depicted by many works related to this dataset is to predict wether or not a passenger of Titanic survived based on the different profiles and the data provided. This is a binary classification problem and we will in this notebook delve into it.\n",
    "The columns names are pretty consice and explicit (except for parch \"parents and children present on board\" and sibsp \"siblings or spouse on board\"), i won't change any.\n"
   ]
  },
  {
   "cell_type": "code",
   "execution_count": 4,
   "id": "401678ef",
   "metadata": {},
   "outputs": [
    {
     "name": "stdout",
     "output_type": "stream",
     "text": [
      "<class 'pandas.core.frame.DataFrame'>\n",
      "RangeIndex: 891 entries, 0 to 890\n",
      "Data columns (total 12 columns):\n",
      " #   Column       Non-Null Count  Dtype  \n",
      "---  ------       --------------  -----  \n",
      " 0   PassengerId  891 non-null    int64  \n",
      " 1   Survived     891 non-null    int64  \n",
      " 2   Pclass       891 non-null    int64  \n",
      " 3   Name         891 non-null    object \n",
      " 4   Sex          891 non-null    object \n",
      " 5   Age          714 non-null    float64\n",
      " 6   SibSp        891 non-null    int64  \n",
      " 7   Parch        891 non-null    int64  \n",
      " 8   Ticket       891 non-null    object \n",
      " 9   Fare         891 non-null    float64\n",
      " 10  Cabin        204 non-null    object \n",
      " 11  Embarked     889 non-null    object \n",
      "dtypes: float64(2), int64(5), object(5)\n",
      "memory usage: 83.7+ KB\n",
      "None\n"
     ]
    }
   ],
   "source": [
    "print(df.info())"
   ]
  },
  {
   "cell_type": "markdown",
   "id": "a52e51b3",
   "metadata": {},
   "source": [
    "The set is quite short, 891-entries but is enough for a pretty accurate prediction.\n"
   ]
  },
  {
   "cell_type": "markdown",
   "id": "b6d07d67",
   "metadata": {},
   "source": [
    "## Pipeline"
   ]
  },
  {
   "cell_type": "markdown",
   "id": "17f75923",
   "metadata": {},
   "source": [
    "### Data preparation"
   ]
  },
  {
   "cell_type": "markdown",
   "id": "9092709d",
   "metadata": {},
   "source": [
    "Now, I will start the pipeline of our models and predictions by cleaning the data and standardizing it.\n",
    "Based on the different columns we can assume that certain features -such as the ticket number and cabin number aren't relevant enough to be included in our scope."
   ]
  },
  {
   "cell_type": "code",
   "execution_count": 5,
   "id": "31a524bf",
   "metadata": {},
   "outputs": [],
   "source": [
    "df = df.drop(columns = [\"Ticket\", \"Cabin\"])"
   ]
  },
  {
   "cell_type": "markdown",
   "id": "f82ee8cc",
   "metadata": {},
   "source": [
    "Lets now try and standardize columns for wich we have Nan values."
   ]
  },
  {
   "cell_type": "code",
   "execution_count": 6,
   "id": "3490e932",
   "metadata": {},
   "outputs": [
    {
     "name": "stdout",
     "output_type": "stream",
     "text": [
      "<class 'pandas.core.frame.DataFrame'>\n",
      "RangeIndex: 891 entries, 0 to 890\n",
      "Data columns (total 2 columns):\n",
      " #   Column    Non-Null Count  Dtype  \n",
      "---  ------    --------------  -----  \n",
      " 0   Age       714 non-null    float64\n",
      " 1   Embarked  889 non-null    object \n",
      "dtypes: float64(1), object(1)\n",
      "memory usage: 14.1+ KB\n",
      "None\n"
     ]
    }
   ],
   "source": [
    "null_cols = df.columns[df.isnull().any()]\n",
    "\n",
    "print(df[null_cols].info())"
   ]
  },
  {
   "cell_type": "markdown",
   "id": "edda0496",
   "metadata": {},
   "source": [
    "By the looks of it, we found two passengers for wich we do not know the port of embarcation (maybe stowaways ?) and 177 passengers for wich we do not know the age."
   ]
  },
  {
   "cell_type": "code",
   "execution_count": 7,
   "id": "4a088ff2",
   "metadata": {},
   "outputs": [
    {
     "name": "stdout",
     "output_type": "stream",
     "text": [
      "     PassengerId  Survived  Pclass                                       Name  \\\n",
      "61            62         1       1                        Icard, Miss. Amelie   \n",
      "829          830         1       1  Stone, Mrs. George Nelson (Martha Evelyn)   \n",
      "\n",
      "        Sex   Age  SibSp  Parch  Fare Embarked  \n",
      "61   female  38.0      0      0  80.0      nan  \n",
      "829  female  62.0      0      0  80.0      nan  \n"
     ]
    },
    {
     "data": {
      "image/png": "[encoded data removed]",
      "text/plain": [
       "<Figure size 640x480 with 1 Axes>"
      ]
     },
     "metadata": {},
     "output_type": "display_data"
    }
   ],
   "source": [
    "df[\"Embarked\"] = df[\"Embarked\"].astype(str)\n",
    "plt.hist(df[\"Embarked\"])\n",
    "plt.show\n",
    "print(df.loc[df[\"Embarked\"] == \"nan\"])"
   ]
  },
  {
   "cell_type": "markdown",
   "id": "0b969b01",
   "metadata": {},
   "source": [
    "Looking at the proporation of the different volumes of for each port of embarcation we will assume that 2 woman -wich aren't stowaways since we can see they both paid a fare of 80.00- embarked on S."
   ]
  },
  {
   "cell_type": "code",
   "execution_count": 8,
   "id": "96bcbdf3",
   "metadata": {},
   "outputs": [
    {
     "data": {
      "text/plain": [
       "count    714.000000\n",
       "mean      29.699118\n",
       "std       14.526497\n",
       "min        0.420000\n",
       "25%       20.125000\n",
       "50%       28.000000\n",
       "75%       38.000000\n",
       "max       80.000000\n",
       "Name: Age, dtype: float64"
      ]
     },
     "execution_count": 8,
     "metadata": {},
     "output_type": "execute_result"
    },
    {
     "data": {
      "image/png": "[encoded data removed]",
      "text/plain": [
       "<Figure size 640x480 with 1 Axes>"
      ]
     },
     "metadata": {},
     "output_type": "display_data"
    }
   ],
   "source": [
    "df[\"Embarked\"] = df[\"Embarked\"].replace(\"nan\", \"S\")\n",
    "plt.hist(df[\"Age\"])\n",
    "plt.show\n",
    "df[\"Age\"].describe()\n"
   ]
  },
  {
   "cell_type": "markdown",
   "id": "18961699",
   "metadata": {},
   "source": [
    "Let's try using mean Age values for each titles in the Name col to reduce bias and fill-in the missing values."
   ]
  },
  {
   "cell_type": "code",
   "execution_count": 9,
   "id": "4107061e",
   "metadata": {},
   "outputs": [
    {
     "name": "stdout",
     "output_type": "stream",
     "text": [
      "Title\n",
      "Mr              517\n",
      "Miss            182\n",
      "Mrs             125\n",
      "Master           40\n",
      "Dr                7\n",
      "Rev               6\n",
      "Mlle              2\n",
      "Major             2\n",
      "Col               2\n",
      "the Countess      1\n",
      "Capt              1\n",
      "Ms                1\n",
      "Sir               1\n",
      "Lady              1\n",
      "Mme               1\n",
      "Don               1\n",
      "Jonkheer          1\n",
      "Name: count, dtype: int64\n",
      "891\n"
     ]
    }
   ],
   "source": [
    "df[\"Title\"] = df[\"Name\"].str.extract(r\",\\s*([^\\.]+)\\.\")\n",
    "print(df[\"Title\"].value_counts())\n",
    "print(df[\"Title\"].value_counts().sum())\n"
   ]
  },
  {
   "cell_type": "markdown",
   "id": "e762d1ce",
   "metadata": {},
   "source": [
    "We'll bin the different titles so its easier to manipulate. "
   ]
  },
  {
   "cell_type": "code",
   "execution_count": 10,
   "id": "038ef34c",
   "metadata": {},
   "outputs": [
    {
     "data": {
      "text/html": [
       "<div>\n",
       "<style scoped>\n",
       "    .dataframe tbody tr th:only-of-type {\n",
       "        vertical-align: middle;\n",
       "    }\n",
       "\n",
       "    .dataframe tbody tr th {\n",
       "        vertical-align: top;\n",
       "    }\n",
       "\n",
       "    .dataframe thead th {\n",
       "        text-align: right;\n",
       "    }\n",
       "</style>\n",
       "<table border=\"1\" class=\"dataframe\">\n",
       "  <thead>\n",
       "    <tr style=\"text-align: right;\">\n",
       "      <th></th>\n",
       "      <th>count</th>\n",
       "      <th>mean</th>\n",
       "      <th>std</th>\n",
       "      <th>min</th>\n",
       "      <th>25%</th>\n",
       "      <th>50%</th>\n",
       "      <th>75%</th>\n",
       "      <th>max</th>\n",
       "    </tr>\n",
       "    <tr>\n",
       "      <th>Titlebin</th>\n",
       "      <th></th>\n",
       "      <th></th>\n",
       "      <th></th>\n",
       "      <th></th>\n",
       "      <th></th>\n",
       "      <th></th>\n",
       "      <th></th>\n",
       "      <th></th>\n",
       "    </tr>\n",
       "  </thead>\n",
       "  <tbody>\n",
       "    <tr>\n",
       "      <th>Master</th>\n",
       "      <td>36.0</td>\n",
       "      <td>4.574167</td>\n",
       "      <td>3.619872</td>\n",
       "      <td>0.42</td>\n",
       "      <td>1.0</td>\n",
       "      <td>3.5</td>\n",
       "      <td>8.0</td>\n",
       "      <td>12.0</td>\n",
       "    </tr>\n",
       "    <tr>\n",
       "      <th>Miss</th>\n",
       "      <td>149.0</td>\n",
       "      <td>21.845638</td>\n",
       "      <td>12.870542</td>\n",
       "      <td>0.75</td>\n",
       "      <td>14.5</td>\n",
       "      <td>21.0</td>\n",
       "      <td>30.0</td>\n",
       "      <td>63.0</td>\n",
       "    </tr>\n",
       "    <tr>\n",
       "      <th>Mr</th>\n",
       "      <td>398.0</td>\n",
       "      <td>32.368090</td>\n",
       "      <td>12.708793</td>\n",
       "      <td>11.00</td>\n",
       "      <td>23.0</td>\n",
       "      <td>30.0</td>\n",
       "      <td>39.0</td>\n",
       "      <td>80.0</td>\n",
       "    </tr>\n",
       "    <tr>\n",
       "      <th>Mrs</th>\n",
       "      <td>109.0</td>\n",
       "      <td>35.788991</td>\n",
       "      <td>11.437490</td>\n",
       "      <td>14.00</td>\n",
       "      <td>27.0</td>\n",
       "      <td>35.0</td>\n",
       "      <td>44.0</td>\n",
       "      <td>63.0</td>\n",
       "    </tr>\n",
       "    <tr>\n",
       "      <th>Noble</th>\n",
       "      <td>5.0</td>\n",
       "      <td>41.600000</td>\n",
       "      <td>6.804410</td>\n",
       "      <td>33.00</td>\n",
       "      <td>38.0</td>\n",
       "      <td>40.0</td>\n",
       "      <td>48.0</td>\n",
       "      <td>49.0</td>\n",
       "    </tr>\n",
       "    <tr>\n",
       "      <th>Professionnal</th>\n",
       "      <td>17.0</td>\n",
       "      <td>46.705882</td>\n",
       "      <td>12.819734</td>\n",
       "      <td>23.00</td>\n",
       "      <td>42.0</td>\n",
       "      <td>50.0</td>\n",
       "      <td>54.0</td>\n",
       "      <td>70.0</td>\n",
       "    </tr>\n",
       "  </tbody>\n",
       "</table>\n",
       "</div>"
      ],
      "text/plain": [
       "               count       mean        std    min   25%   50%   75%   max\n",
       "Titlebin                                                                 \n",
       "Master          36.0   4.574167   3.619872   0.42   1.0   3.5   8.0  12.0\n",
       "Miss           149.0  21.845638  12.870542   0.75  14.5  21.0  30.0  63.0\n",
       "Mr             398.0  32.368090  12.708793  11.00  23.0  30.0  39.0  80.0\n",
       "Mrs            109.0  35.788991  11.437490  14.00  27.0  35.0  44.0  63.0\n",
       "Noble            5.0  41.600000   6.804410  33.00  38.0  40.0  48.0  49.0\n",
       "Professionnal   17.0  46.705882  12.819734  23.00  42.0  50.0  54.0  70.0"
      ]
     },
     "execution_count": 10,
     "metadata": {},
     "output_type": "execute_result"
    }
   ],
   "source": [
    "titlemapping = {\n",
    "    \"Mr\": \"Mr\",\n",
    "    \"Miss\": \"Miss\",\n",
    "    \"Mrs\": \"Mrs\",\n",
    "    \"Master\": \"Master\",\n",
    "    \"Mlle\": \"Miss\",\n",
    "    \"Ms\": \"Miss\",\n",
    "    \"Mme\": \"Mrs\",\n",
    "    \"the Countess\": \"Noble\",\n",
    "    \"Lady\": \"Noble\",\n",
    "    \"Sir\": \"Noble\",\n",
    "    \"Don\": \"Noble\",\n",
    "    \"Jonkheer\": \"Noble\",\n",
    "    \"Dr\" : \"Professionnal\", \n",
    "    \"Capt\" : \"Professionnal\",\n",
    "    \"Rev\" : \"Professionnal\",\n",
    "    \"Major\" : \"Professionnal\",\n",
    "    \"Col\" : \"Professionnal\"\n",
    "}\n",
    "\n",
    "df[\"Titlebin\"] = df[\"Title\"].map(titlemapping)\n",
    "mean_by_bin = df.groupby(\"Titlebin\")[\"Age\"].mean()\n",
    "df.groupby(\"Titlebin\")[\"Age\"].describe()"
   ]
  },
  {
   "cell_type": "code",
   "execution_count": 11,
   "id": "256ac7a5",
   "metadata": {},
   "outputs": [],
   "source": [
    "df[\"Age\"] = df.apply(\n",
    "    lambda row: mean_by_bin[row[\"Titlebin\"]] if pd.isnull(row[\"Age\"]) else row[\"Age\"],\n",
    "    axis=1\n",
    ")"
   ]
  },
  {
   "cell_type": "markdown",
   "id": "7173a177",
   "metadata": {},
   "source": [
    "Nos valeurs dont l'âge n'était pas renseigné on maintenant un âge à priori plus proche de la réalité que si nous avions utilisé la moyenne globale. Révérifions l'état du df pour appliquer les derniers ajustements avant de passer à l'étape suivante."
   ]
  },
  {
   "cell_type": "code",
   "execution_count": 12,
   "id": "b3ea7721",
   "metadata": {},
   "outputs": [
    {
     "name": "stdout",
     "output_type": "stream",
     "text": [
      "   PassengerId  Survived  Pclass  \\\n",
      "0            1         0       3   \n",
      "1            2         1       1   \n",
      "2            3         1       3   \n",
      "3            4         1       1   \n",
      "4            5         0       3   \n",
      "\n",
      "                                                Name     Sex   Age  SibSp  \\\n",
      "0                            Braund, Mr. Owen Harris    male  22.0      1   \n",
      "1  Cumings, Mrs. John Bradley (Florence Briggs Th...  female  38.0      1   \n",
      "2                             Heikkinen, Miss. Laina  female  26.0      0   \n",
      "3       Futrelle, Mrs. Jacques Heath (Lily May Peel)  female  35.0      1   \n",
      "4                           Allen, Mr. William Henry    male  35.0      0   \n",
      "\n",
      "   Parch     Fare Embarked Title Titlebin  \n",
      "0      0   7.2500        S    Mr       Mr  \n",
      "1      0  71.2833        C   Mrs      Mrs  \n",
      "2      0   7.9250        S  Miss     Miss  \n",
      "3      0  53.1000        S   Mrs      Mrs  \n",
      "4      0   8.0500        S    Mr       Mr  \n"
     ]
    }
   ],
   "source": [
    "print(df.head())"
   ]
  },
  {
   "cell_type": "markdown",
   "id": "39076cba",
   "metadata": {},
   "source": [
    "Il reste à: \n",
    "- supprimer la colonne Name\n",
    "- encoder les valeurs du Sex (mapping binaire) ainsi que celle de Embarked (one-hot avec sklearn)\n",
    "- supprimer les colonnes de Titre"
   ]
  },
  {
   "cell_type": "code",
   "execution_count": 13,
   "id": "177e06b8",
   "metadata": {},
   "outputs": [
    {
     "name": "stdout",
     "output_type": "stream",
     "text": [
      "0      S\n",
      "1      C\n",
      "2      S\n",
      "3      S\n",
      "4      S\n",
      "      ..\n",
      "886    S\n",
      "887    S\n",
      "888    S\n",
      "889    C\n",
      "890    Q\n",
      "Name: Embarked, Length: 891, dtype: object\n"
     ]
    }
   ],
   "source": [
    "print(df[\"Embarked\"])"
   ]
  },
  {
   "cell_type": "code",
   "execution_count": 15,
   "id": "fd472a6e",
   "metadata": {},
   "outputs": [
    {
     "name": "stdout",
     "output_type": "stream",
     "text": [
      "(891, 2)\n",
      "[[0. 1.]\n",
      " [0. 0.]\n",
      " [0. 1.]\n",
      " [0. 1.]\n",
      " [0. 1.]]\n"
     ]
    }
   ],
   "source": [
    "sexencodemapping = { \"male\" : 0 , \"female\" : 1}\n",
    "\n",
    "df[\"SexP\"] = df[\"Sex\"].map(sexencodemapping)\n",
    "\n",
    "encoder = OneHotEncoder(drop=\"first\", sparse_output=False)\n",
    "encoded = encoder.fit_transform(df[[\"Embarked\"]])\n",
    "\n",
    "print(encoded.shape)   # (891, 2) for Titanic\n",
    "print(encoded[:5])     # first 5 rows as NumPy array\n",
    "\n",
    "encoded_df = pd.DataFrame(encoded, columns=encoder.get_feature_names_out([\"Embarked\"]))\n",
    "\n",
    "df = pd.concat([df.drop(\"Embarked\", axis=1), encoded_df], axis=1)"
   ]
  }
 ],
 "metadata": {
  "kernelspec": {
   "display_name": "Python 3",
   "language": "python",
   "name": "python3"
  },
  "language_info": {
   "codemirror_mode": {
    "name": "ipython",
    "version": 3
   },
   "file_extension": ".py",
   "mimetype": "text/x-python",
   "name": "python",
   "nbconvert_exporter": "python",
   "pygments_lexer": "ipython3",
   "version": "3.11.8"
  }
 },
 "nbformat": 4,
 "nbformat_minor": 5
}
